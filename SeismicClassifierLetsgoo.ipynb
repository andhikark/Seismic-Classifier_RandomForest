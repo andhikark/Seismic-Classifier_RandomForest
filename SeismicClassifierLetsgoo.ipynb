{
  "nbformat": 4,
  "nbformat_minor": 0,
  "metadata": {
    "colab": {
      "provenance": [],
      "gpuType": "T4"
    },
    "kernelspec": {
      "name": "python3",
      "display_name": "Python 3"
    },
    "language_info": {
      "name": "python"
    },
    "accelerator": "GPU"
  },
  "cells": [
    {
      "cell_type": "code",
      "source": [
        "import pandas as pd\n",
        "import numpy as np\n",
        "from sklearn.preprocessing import LabelEncoder, StandardScaler\n",
        "from sklearn.model_selection import train_test_split\n",
        "from sklearn.ensemble import RandomForestClassifier\n",
        "from sklearn.metrics import classification_report, confusion_matrix\n",
        "import seaborn as sns\n",
        "import matplotlib.pyplot as plt\n",
        "import joblib"
      ],
      "metadata": {
        "id": "_6E906i5Z8w_"
      },
      "execution_count": 54,
      "outputs": []
    },
    {
      "cell_type": "markdown",
      "source": [
        "Load Dataset from  [Stanford Earthquake Dataset (STEAD)](https://www.kaggle.com/datasets/isevilla/stanford-earthquake-dataset-stead/data/)"
      ],
      "metadata": {
        "id": "ENT9F9LNdJ7i"
      }
    },
    {
      "cell_type": "code",
      "execution_count": 55,
      "metadata": {
        "colab": {
          "base_uri": "https://localhost:8080/"
        },
        "id": "ZCsjiCYRNCFg",
        "outputId": "33088087-013c-4249-ceb1-435fc0a4b391"
      },
      "outputs": [
        {
          "output_type": "stream",
          "name": "stdout",
          "text": [
            "  network_code receiver_code receiver_type  receiver_latitude  \\\n",
            "0           TA          109C            HH            32.8889   \n",
            "1           TA          109C            HH            32.8889   \n",
            "2           TA          109C            HH            32.8889   \n",
            "3           TA          109C            HH            32.8889   \n",
            "4           TA          109C            HH            32.8889   \n",
            "\n",
            "   receiver_longitude  receiver_elevation_m  p_arrival_sample p_status  \\\n",
            "0           -117.1051                 150.0               NaN      NaN   \n",
            "1           -117.1051                 150.0               NaN      NaN   \n",
            "2           -117.1051                 150.0               NaN      NaN   \n",
            "3           -117.1051                 150.0               NaN      NaN   \n",
            "4           -117.1051                 150.0               NaN      NaN   \n",
            "\n",
            "   p_weight  p_travel_sec  ...  source_magnitude_author  \\\n",
            "0       NaN           NaN  ...                      NaN   \n",
            "1       NaN           NaN  ...                      NaN   \n",
            "2       NaN           NaN  ...                      NaN   \n",
            "3       NaN           NaN  ...                      NaN   \n",
            "4       NaN           NaN  ...                      NaN   \n",
            "\n",
            "  source_mechanism_strike_dip_rake  source_distance_deg source_distance_km  \\\n",
            "0                              NaN                  NaN                NaN   \n",
            "1                              NaN                  NaN                NaN   \n",
            "2                              NaN                  NaN                NaN   \n",
            "3                              NaN                  NaN                NaN   \n",
            "4                              NaN                  NaN                NaN   \n",
            "\n",
            "  back_azimuth_deg  snr_db  coda_end_sample     trace_start_time  \\\n",
            "0              NaN     NaN              NaN  2015-10-21 05:55:00   \n",
            "1              NaN     NaN              NaN  2015-11-06 14:50:00   \n",
            "2              NaN     NaN              NaN  2015-11-07 02:20:00   \n",
            "3              NaN     NaN              NaN  2015-11-14 05:15:00   \n",
            "4              NaN     NaN              NaN  2015-12-25 18:50:00   \n",
            "\n",
            "   trace_category               trace_name  \n",
            "0           noise  109C.TA_201510210555_NO  \n",
            "1           noise  109C.TA_201511061450_NO  \n",
            "2           noise  109C.TA_201511070220_NO  \n",
            "3           noise  109C.TA_201511140515_NO  \n",
            "4           noise  109C.TA_201512251850_NO  \n",
            "\n",
            "[5 rows x 35 columns]\n",
            "Index(['network_code', 'receiver_code', 'receiver_type', 'receiver_latitude',\n",
            "       'receiver_longitude', 'receiver_elevation_m', 'p_arrival_sample',\n",
            "       'p_status', 'p_weight', 'p_travel_sec', 's_arrival_sample', 's_status',\n",
            "       's_weight', 'source_id', 'source_origin_time',\n",
            "       'source_origin_uncertainty_sec', 'source_latitude', 'source_longitude',\n",
            "       'source_error_sec', 'source_gap_deg',\n",
            "       'source_horizontal_uncertainty_km', 'source_depth_km',\n",
            "       'source_depth_uncertainty_km', 'source_magnitude',\n",
            "       'source_magnitude_type', 'source_magnitude_author',\n",
            "       'source_mechanism_strike_dip_rake', 'source_distance_deg',\n",
            "       'source_distance_km', 'back_azimuth_deg', 'snr_db', 'coda_end_sample',\n",
            "       'trace_start_time', 'trace_category', 'trace_name'],\n",
            "      dtype='object')\n"
          ]
        }
      ],
      "source": [
        "data = pd.read_csv(file_name, delimiter=',', on_bad_lines='skip', low_memory=False)\n",
        "print(data.head())\n",
        "print(data.columns)"
      ]
    },
    {
      "cell_type": "markdown",
      "source": [
        "Inspection and Cleaning"
      ],
      "metadata": {
        "id": "95VH1Roxda8S"
      }
    },
    {
      "cell_type": "code",
      "source": [
        "print(data.isnull().sum())\n",
        "print(data.dtypes)"
      ],
      "metadata": {
        "colab": {
          "base_uri": "https://localhost:8080/"
        },
        "id": "jRHF75RaQZpg",
        "outputId": "d1dad1a4-619d-4b37-f36d-b1db9b3e927d"
      },
      "execution_count": 56,
      "outputs": [
        {
          "output_type": "stream",
          "name": "stdout",
          "text": [
            "network_code                             44\n",
            "receiver_code                             0\n",
            "receiver_type                             0\n",
            "receiver_latitude                         0\n",
            "receiver_longitude                        0\n",
            "receiver_elevation_m                      0\n",
            "p_arrival_sample                     235426\n",
            "p_status                             235426\n",
            "p_weight                             235600\n",
            "p_travel_sec                         235426\n",
            "s_arrival_sample                     235426\n",
            "s_status                             235426\n",
            "s_weight                             235581\n",
            "source_id                            235426\n",
            "source_origin_time                   235426\n",
            "source_origin_uncertainty_sec       1125363\n",
            "source_latitude                      235426\n",
            "source_longitude                     235426\n",
            "source_error_sec                     806154\n",
            "source_gap_deg                       884840\n",
            "source_horizontal_uncertainty_km     824919\n",
            "source_depth_km                      235475\n",
            "source_depth_uncertainty_km          896234\n",
            "source_magnitude                     235426\n",
            "source_magnitude_type                235426\n",
            "source_magnitude_author             1015479\n",
            "source_mechanism_strike_dip_rake    1259629\n",
            "source_distance_deg                  235426\n",
            "source_distance_km                   235426\n",
            "back_azimuth_deg                     235426\n",
            "snr_db                               235426\n",
            "coda_end_sample                      235426\n",
            "trace_start_time                          0\n",
            "trace_category                            0\n",
            "trace_name                                0\n",
            "dtype: int64\n",
            "network_code                         object\n",
            "receiver_code                        object\n",
            "receiver_type                        object\n",
            "receiver_latitude                   float64\n",
            "receiver_longitude                  float64\n",
            "receiver_elevation_m                float64\n",
            "p_arrival_sample                    float64\n",
            "p_status                             object\n",
            "p_weight                            float64\n",
            "p_travel_sec                        float64\n",
            "s_arrival_sample                    float64\n",
            "s_status                             object\n",
            "s_weight                            float64\n",
            "source_id                            object\n",
            "source_origin_time                   object\n",
            "source_origin_uncertainty_sec       float64\n",
            "source_latitude                     float64\n",
            "source_longitude                    float64\n",
            "source_error_sec                    float64\n",
            "source_gap_deg                      float64\n",
            "source_horizontal_uncertainty_km    float64\n",
            "source_depth_km                     float64\n",
            "source_depth_uncertainty_km         float64\n",
            "source_magnitude                    float64\n",
            "source_magnitude_type                object\n",
            "source_magnitude_author              object\n",
            "source_mechanism_strike_dip_rake     object\n",
            "source_distance_deg                 float64\n",
            "source_distance_km                  float64\n",
            "back_azimuth_deg                    float64\n",
            "snr_db                               object\n",
            "coda_end_sample                      object\n",
            "trace_start_time                     object\n",
            "trace_category                       object\n",
            "trace_name                           object\n",
            "dtype: object\n"
          ]
        }
      ]
    },
    {
      "cell_type": "markdown",
      "source": [
        "Handling mising value"
      ],
      "metadata": {
        "id": "tWtPiqn_deCT"
      }
    },
    {
      "cell_type": "code",
      "source": [
        "threshold = len(data) * 0.5\n",
        "data = data.dropna(thresh=threshold, axis=1)\n",
        "data = data.fillna(0)"
      ],
      "metadata": {
        "id": "eSdj-19LQaQp"
      },
      "execution_count": 57,
      "outputs": []
    },
    {
      "cell_type": "code",
      "source": [
        "print(data.info())\n",
        "print(data.isnull().sum())"
      ],
      "metadata": {
        "colab": {
          "base_uri": "https://localhost:8080/"
        },
        "id": "HlNuYjBtQuiT",
        "outputId": "99b53749-9f2a-4f5f-87ba-e3cde892ba5f"
      },
      "execution_count": 58,
      "outputs": [
        {
          "output_type": "stream",
          "name": "stdout",
          "text": [
            "<class 'pandas.core.frame.DataFrame'>\n",
            "RangeIndex: 1265657 entries, 0 to 1265656\n",
            "Data columns (total 28 columns):\n",
            " #   Column                 Non-Null Count    Dtype  \n",
            "---  ------                 --------------    -----  \n",
            " 0   network_code           1265657 non-null  object \n",
            " 1   receiver_code          1265657 non-null  object \n",
            " 2   receiver_type          1265657 non-null  object \n",
            " 3   receiver_latitude      1265657 non-null  float64\n",
            " 4   receiver_longitude     1265657 non-null  float64\n",
            " 5   receiver_elevation_m   1265657 non-null  float64\n",
            " 6   p_arrival_sample       1265657 non-null  float64\n",
            " 7   p_status               1265657 non-null  object \n",
            " 8   p_weight               1265657 non-null  float64\n",
            " 9   p_travel_sec           1265657 non-null  float64\n",
            " 10  s_arrival_sample       1265657 non-null  float64\n",
            " 11  s_status               1265657 non-null  object \n",
            " 12  s_weight               1265657 non-null  float64\n",
            " 13  source_id              1265657 non-null  object \n",
            " 14  source_origin_time     1265657 non-null  object \n",
            " 15  source_latitude        1265657 non-null  float64\n",
            " 16  source_longitude       1265657 non-null  float64\n",
            " 17  source_depth_km        1265657 non-null  float64\n",
            " 18  source_magnitude       1265657 non-null  float64\n",
            " 19  source_magnitude_type  1265657 non-null  object \n",
            " 20  source_distance_deg    1265657 non-null  float64\n",
            " 21  source_distance_km     1265657 non-null  float64\n",
            " 22  back_azimuth_deg       1265657 non-null  float64\n",
            " 23  snr_db                 1265657 non-null  object \n",
            " 24  coda_end_sample        1265657 non-null  object \n",
            " 25  trace_start_time       1265657 non-null  object \n",
            " 26  trace_category         1265657 non-null  object \n",
            " 27  trace_name             1265657 non-null  object \n",
            "dtypes: float64(15), object(13)\n",
            "memory usage: 270.4+ MB\n",
            "None\n",
            "network_code             0\n",
            "receiver_code            0\n",
            "receiver_type            0\n",
            "receiver_latitude        0\n",
            "receiver_longitude       0\n",
            "receiver_elevation_m     0\n",
            "p_arrival_sample         0\n",
            "p_status                 0\n",
            "p_weight                 0\n",
            "p_travel_sec             0\n",
            "s_arrival_sample         0\n",
            "s_status                 0\n",
            "s_weight                 0\n",
            "source_id                0\n",
            "source_origin_time       0\n",
            "source_latitude          0\n",
            "source_longitude         0\n",
            "source_depth_km          0\n",
            "source_magnitude         0\n",
            "source_magnitude_type    0\n",
            "source_distance_deg      0\n",
            "source_distance_km       0\n",
            "back_azimuth_deg         0\n",
            "snr_db                   0\n",
            "coda_end_sample          0\n",
            "trace_start_time         0\n",
            "trace_category           0\n",
            "trace_name               0\n",
            "dtype: int64\n"
          ]
        }
      ]
    },
    {
      "cell_type": "markdown",
      "source": [
        "make column names equal"
      ],
      "metadata": {
        "id": "mp1aC3aQdhFG"
      }
    },
    {
      "cell_type": "code",
      "source": [
        "data.columns = data.columns.str.strip().str.lower()\n",
        "print(data.columns)"
      ],
      "metadata": {
        "colab": {
          "base_uri": "https://localhost:8080/"
        },
        "id": "Mkl6_MNrTra8",
        "outputId": "2f4b9a5f-6e98-4938-84c7-f60586a0aef5"
      },
      "execution_count": 59,
      "outputs": [
        {
          "output_type": "stream",
          "name": "stdout",
          "text": [
            "Index(['network_code', 'receiver_code', 'receiver_type', 'receiver_latitude',\n",
            "       'receiver_longitude', 'receiver_elevation_m', 'p_arrival_sample',\n",
            "       'p_status', 'p_weight', 'p_travel_sec', 's_arrival_sample', 's_status',\n",
            "       's_weight', 'source_id', 'source_origin_time', 'source_latitude',\n",
            "       'source_longitude', 'source_depth_km', 'source_magnitude',\n",
            "       'source_magnitude_type', 'source_distance_deg', 'source_distance_km',\n",
            "       'back_azimuth_deg', 'snr_db', 'coda_end_sample', 'trace_start_time',\n",
            "       'trace_category', 'trace_name'],\n",
            "      dtype='object')\n"
          ]
        }
      ]
    },
    {
      "cell_type": "markdown",
      "source": [
        "Encone the target column"
      ],
      "metadata": {
        "id": "tSvTTy9udlAe"
      }
    },
    {
      "cell_type": "code",
      "source": [
        "if 'trace_category' in data.columns:\n",
        "    print(data['trace_category'].unique())\n",
        "\n",
        "    data['trace_category'] = data['trace_category'].fillna('unknown')\n",
        "\n",
        "    label_encoder = LabelEncoder()\n",
        "    data['trace_category'] = label_encoder.fit_transform(data['trace_category'])\n",
        "    print(label_encoder.classes_)\n",
        "else:\n",
        "    print(\"Error: 'trace_category' column not found!\")"
      ],
      "metadata": {
        "colab": {
          "base_uri": "https://localhost:8080/"
        },
        "id": "06ZNfZ3QUFYN",
        "outputId": "98580b98-20f7-43b0-f480-5fc4182087ee"
      },
      "execution_count": 60,
      "outputs": [
        {
          "output_type": "stream",
          "name": "stdout",
          "text": [
            "['noise' 'earthquake_local']\n",
            "['earthquake_local' 'noise']\n"
          ]
        }
      ]
    },
    {
      "cell_type": "markdown",
      "source": [
        "Feature Selection and preprocessing"
      ],
      "metadata": {
        "id": "n9C67pCcdoF8"
      }
    },
    {
      "cell_type": "code",
      "source": [
        "features = data[['p_arrival_sample', 's_arrival_sample', 'source_latitude',\n",
        "                 'source_longitude', 'source_depth_km']]\n",
        "target = data['trace_category']\n",
        "\n",
        "features = features.apply(pd.to_numeric, errors='coerce')\n",
        "features = features.fillna(0)"
      ],
      "metadata": {
        "id": "FI5ZT-FeTy7t"
      },
      "execution_count": 61,
      "outputs": []
    },
    {
      "cell_type": "markdown",
      "source": [
        "Scaling\n"
      ],
      "metadata": {
        "id": "CItV7rrhdrCR"
      }
    },
    {
      "cell_type": "code",
      "source": [
        "scaler = StandardScaler()\n",
        "features_scaled = scaler.fit_transform(features)"
      ],
      "metadata": {
        "id": "9V3Od698U-jT"
      },
      "execution_count": 62,
      "outputs": []
    },
    {
      "cell_type": "markdown",
      "source": [
        "split the test"
      ],
      "metadata": {
        "id": "YhCOEHqVdua9"
      }
    },
    {
      "cell_type": "code",
      "source": [
        "X_train, X_test, y_train, y_test = train_test_split(features_scaled, target, test_size=0.3, random_state=42)\n"
      ],
      "metadata": {
        "id": "qbb4KEFfVA_r"
      },
      "execution_count": 63,
      "outputs": []
    },
    {
      "cell_type": "markdown",
      "source": [
        "Train using Random forest classifier"
      ],
      "metadata": {
        "id": "8YA1naP5d0HG"
      }
    },
    {
      "cell_type": "code",
      "source": [
        "model = RandomForestClassifier(random_state=42)\n",
        "model.fit(X_train, y_train)"
      ],
      "metadata": {
        "colab": {
          "base_uri": "https://localhost:8080/",
          "height": 80
        },
        "id": "EZw6WXPoVDjE",
        "outputId": "7d5f46a0-fc91-4fd6-d2c8-60d26a2cce98"
      },
      "execution_count": 64,
      "outputs": [
        {
          "output_type": "execute_result",
          "data": {
            "text/plain": [
              "RandomForestClassifier(random_state=42)"
            ],
            "text/html": [
              "<style>#sk-container-id-3 {\n",
              "  /* Definition of color scheme common for light and dark mode */\n",
              "  --sklearn-color-text: black;\n",
              "  --sklearn-color-line: gray;\n",
              "  /* Definition of color scheme for unfitted estimators */\n",
              "  --sklearn-color-unfitted-level-0: #fff5e6;\n",
              "  --sklearn-color-unfitted-level-1: #f6e4d2;\n",
              "  --sklearn-color-unfitted-level-2: #ffe0b3;\n",
              "  --sklearn-color-unfitted-level-3: chocolate;\n",
              "  /* Definition of color scheme for fitted estimators */\n",
              "  --sklearn-color-fitted-level-0: #f0f8ff;\n",
              "  --sklearn-color-fitted-level-1: #d4ebff;\n",
              "  --sklearn-color-fitted-level-2: #b3dbfd;\n",
              "  --sklearn-color-fitted-level-3: cornflowerblue;\n",
              "\n",
              "  /* Specific color for light theme */\n",
              "  --sklearn-color-text-on-default-background: var(--sg-text-color, var(--theme-code-foreground, var(--jp-content-font-color1, black)));\n",
              "  --sklearn-color-background: var(--sg-background-color, var(--theme-background, var(--jp-layout-color0, white)));\n",
              "  --sklearn-color-border-box: var(--sg-text-color, var(--theme-code-foreground, var(--jp-content-font-color1, black)));\n",
              "  --sklearn-color-icon: #696969;\n",
              "\n",
              "  @media (prefers-color-scheme: dark) {\n",
              "    /* Redefinition of color scheme for dark theme */\n",
              "    --sklearn-color-text-on-default-background: var(--sg-text-color, var(--theme-code-foreground, var(--jp-content-font-color1, white)));\n",
              "    --sklearn-color-background: var(--sg-background-color, var(--theme-background, var(--jp-layout-color0, #111)));\n",
              "    --sklearn-color-border-box: var(--sg-text-color, var(--theme-code-foreground, var(--jp-content-font-color1, white)));\n",
              "    --sklearn-color-icon: #878787;\n",
              "  }\n",
              "}\n",
              "\n",
              "#sk-container-id-3 {\n",
              "  color: var(--sklearn-color-text);\n",
              "}\n",
              "\n",
              "#sk-container-id-3 pre {\n",
              "  padding: 0;\n",
              "}\n",
              "\n",
              "#sk-container-id-3 input.sk-hidden--visually {\n",
              "  border: 0;\n",
              "  clip: rect(1px 1px 1px 1px);\n",
              "  clip: rect(1px, 1px, 1px, 1px);\n",
              "  height: 1px;\n",
              "  margin: -1px;\n",
              "  overflow: hidden;\n",
              "  padding: 0;\n",
              "  position: absolute;\n",
              "  width: 1px;\n",
              "}\n",
              "\n",
              "#sk-container-id-3 div.sk-dashed-wrapped {\n",
              "  border: 1px dashed var(--sklearn-color-line);\n",
              "  margin: 0 0.4em 0.5em 0.4em;\n",
              "  box-sizing: border-box;\n",
              "  padding-bottom: 0.4em;\n",
              "  background-color: var(--sklearn-color-background);\n",
              "}\n",
              "\n",
              "#sk-container-id-3 div.sk-container {\n",
              "  /* jupyter's `normalize.less` sets `[hidden] { display: none; }`\n",
              "     but bootstrap.min.css set `[hidden] { display: none !important; }`\n",
              "     so we also need the `!important` here to be able to override the\n",
              "     default hidden behavior on the sphinx rendered scikit-learn.org.\n",
              "     See: https://github.com/scikit-learn/scikit-learn/issues/21755 */\n",
              "  display: inline-block !important;\n",
              "  position: relative;\n",
              "}\n",
              "\n",
              "#sk-container-id-3 div.sk-text-repr-fallback {\n",
              "  display: none;\n",
              "}\n",
              "\n",
              "div.sk-parallel-item,\n",
              "div.sk-serial,\n",
              "div.sk-item {\n",
              "  /* draw centered vertical line to link estimators */\n",
              "  background-image: linear-gradient(var(--sklearn-color-text-on-default-background), var(--sklearn-color-text-on-default-background));\n",
              "  background-size: 2px 100%;\n",
              "  background-repeat: no-repeat;\n",
              "  background-position: center center;\n",
              "}\n",
              "\n",
              "/* Parallel-specific style estimator block */\n",
              "\n",
              "#sk-container-id-3 div.sk-parallel-item::after {\n",
              "  content: \"\";\n",
              "  width: 100%;\n",
              "  border-bottom: 2px solid var(--sklearn-color-text-on-default-background);\n",
              "  flex-grow: 1;\n",
              "}\n",
              "\n",
              "#sk-container-id-3 div.sk-parallel {\n",
              "  display: flex;\n",
              "  align-items: stretch;\n",
              "  justify-content: center;\n",
              "  background-color: var(--sklearn-color-background);\n",
              "  position: relative;\n",
              "}\n",
              "\n",
              "#sk-container-id-3 div.sk-parallel-item {\n",
              "  display: flex;\n",
              "  flex-direction: column;\n",
              "}\n",
              "\n",
              "#sk-container-id-3 div.sk-parallel-item:first-child::after {\n",
              "  align-self: flex-end;\n",
              "  width: 50%;\n",
              "}\n",
              "\n",
              "#sk-container-id-3 div.sk-parallel-item:last-child::after {\n",
              "  align-self: flex-start;\n",
              "  width: 50%;\n",
              "}\n",
              "\n",
              "#sk-container-id-3 div.sk-parallel-item:only-child::after {\n",
              "  width: 0;\n",
              "}\n",
              "\n",
              "/* Serial-specific style estimator block */\n",
              "\n",
              "#sk-container-id-3 div.sk-serial {\n",
              "  display: flex;\n",
              "  flex-direction: column;\n",
              "  align-items: center;\n",
              "  background-color: var(--sklearn-color-background);\n",
              "  padding-right: 1em;\n",
              "  padding-left: 1em;\n",
              "}\n",
              "\n",
              "\n",
              "/* Toggleable style: style used for estimator/Pipeline/ColumnTransformer box that is\n",
              "clickable and can be expanded/collapsed.\n",
              "- Pipeline and ColumnTransformer use this feature and define the default style\n",
              "- Estimators will overwrite some part of the style using the `sk-estimator` class\n",
              "*/\n",
              "\n",
              "/* Pipeline and ColumnTransformer style (default) */\n",
              "\n",
              "#sk-container-id-3 div.sk-toggleable {\n",
              "  /* Default theme specific background. It is overwritten whether we have a\n",
              "  specific estimator or a Pipeline/ColumnTransformer */\n",
              "  background-color: var(--sklearn-color-background);\n",
              "}\n",
              "\n",
              "/* Toggleable label */\n",
              "#sk-container-id-3 label.sk-toggleable__label {\n",
              "  cursor: pointer;\n",
              "  display: block;\n",
              "  width: 100%;\n",
              "  margin-bottom: 0;\n",
              "  padding: 0.5em;\n",
              "  box-sizing: border-box;\n",
              "  text-align: center;\n",
              "}\n",
              "\n",
              "#sk-container-id-3 label.sk-toggleable__label-arrow:before {\n",
              "  /* Arrow on the left of the label */\n",
              "  content: \"▸\";\n",
              "  float: left;\n",
              "  margin-right: 0.25em;\n",
              "  color: var(--sklearn-color-icon);\n",
              "}\n",
              "\n",
              "#sk-container-id-3 label.sk-toggleable__label-arrow:hover:before {\n",
              "  color: var(--sklearn-color-text);\n",
              "}\n",
              "\n",
              "/* Toggleable content - dropdown */\n",
              "\n",
              "#sk-container-id-3 div.sk-toggleable__content {\n",
              "  max-height: 0;\n",
              "  max-width: 0;\n",
              "  overflow: hidden;\n",
              "  text-align: left;\n",
              "  /* unfitted */\n",
              "  background-color: var(--sklearn-color-unfitted-level-0);\n",
              "}\n",
              "\n",
              "#sk-container-id-3 div.sk-toggleable__content.fitted {\n",
              "  /* fitted */\n",
              "  background-color: var(--sklearn-color-fitted-level-0);\n",
              "}\n",
              "\n",
              "#sk-container-id-3 div.sk-toggleable__content pre {\n",
              "  margin: 0.2em;\n",
              "  border-radius: 0.25em;\n",
              "  color: var(--sklearn-color-text);\n",
              "  /* unfitted */\n",
              "  background-color: var(--sklearn-color-unfitted-level-0);\n",
              "}\n",
              "\n",
              "#sk-container-id-3 div.sk-toggleable__content.fitted pre {\n",
              "  /* unfitted */\n",
              "  background-color: var(--sklearn-color-fitted-level-0);\n",
              "}\n",
              "\n",
              "#sk-container-id-3 input.sk-toggleable__control:checked~div.sk-toggleable__content {\n",
              "  /* Expand drop-down */\n",
              "  max-height: 200px;\n",
              "  max-width: 100%;\n",
              "  overflow: auto;\n",
              "}\n",
              "\n",
              "#sk-container-id-3 input.sk-toggleable__control:checked~label.sk-toggleable__label-arrow:before {\n",
              "  content: \"▾\";\n",
              "}\n",
              "\n",
              "/* Pipeline/ColumnTransformer-specific style */\n",
              "\n",
              "#sk-container-id-3 div.sk-label input.sk-toggleable__control:checked~label.sk-toggleable__label {\n",
              "  color: var(--sklearn-color-text);\n",
              "  background-color: var(--sklearn-color-unfitted-level-2);\n",
              "}\n",
              "\n",
              "#sk-container-id-3 div.sk-label.fitted input.sk-toggleable__control:checked~label.sk-toggleable__label {\n",
              "  background-color: var(--sklearn-color-fitted-level-2);\n",
              "}\n",
              "\n",
              "/* Estimator-specific style */\n",
              "\n",
              "/* Colorize estimator box */\n",
              "#sk-container-id-3 div.sk-estimator input.sk-toggleable__control:checked~label.sk-toggleable__label {\n",
              "  /* unfitted */\n",
              "  background-color: var(--sklearn-color-unfitted-level-2);\n",
              "}\n",
              "\n",
              "#sk-container-id-3 div.sk-estimator.fitted input.sk-toggleable__control:checked~label.sk-toggleable__label {\n",
              "  /* fitted */\n",
              "  background-color: var(--sklearn-color-fitted-level-2);\n",
              "}\n",
              "\n",
              "#sk-container-id-3 div.sk-label label.sk-toggleable__label,\n",
              "#sk-container-id-3 div.sk-label label {\n",
              "  /* The background is the default theme color */\n",
              "  color: var(--sklearn-color-text-on-default-background);\n",
              "}\n",
              "\n",
              "/* On hover, darken the color of the background */\n",
              "#sk-container-id-3 div.sk-label:hover label.sk-toggleable__label {\n",
              "  color: var(--sklearn-color-text);\n",
              "  background-color: var(--sklearn-color-unfitted-level-2);\n",
              "}\n",
              "\n",
              "/* Label box, darken color on hover, fitted */\n",
              "#sk-container-id-3 div.sk-label.fitted:hover label.sk-toggleable__label.fitted {\n",
              "  color: var(--sklearn-color-text);\n",
              "  background-color: var(--sklearn-color-fitted-level-2);\n",
              "}\n",
              "\n",
              "/* Estimator label */\n",
              "\n",
              "#sk-container-id-3 div.sk-label label {\n",
              "  font-family: monospace;\n",
              "  font-weight: bold;\n",
              "  display: inline-block;\n",
              "  line-height: 1.2em;\n",
              "}\n",
              "\n",
              "#sk-container-id-3 div.sk-label-container {\n",
              "  text-align: center;\n",
              "}\n",
              "\n",
              "/* Estimator-specific */\n",
              "#sk-container-id-3 div.sk-estimator {\n",
              "  font-family: monospace;\n",
              "  border: 1px dotted var(--sklearn-color-border-box);\n",
              "  border-radius: 0.25em;\n",
              "  box-sizing: border-box;\n",
              "  margin-bottom: 0.5em;\n",
              "  /* unfitted */\n",
              "  background-color: var(--sklearn-color-unfitted-level-0);\n",
              "}\n",
              "\n",
              "#sk-container-id-3 div.sk-estimator.fitted {\n",
              "  /* fitted */\n",
              "  background-color: var(--sklearn-color-fitted-level-0);\n",
              "}\n",
              "\n",
              "/* on hover */\n",
              "#sk-container-id-3 div.sk-estimator:hover {\n",
              "  /* unfitted */\n",
              "  background-color: var(--sklearn-color-unfitted-level-2);\n",
              "}\n",
              "\n",
              "#sk-container-id-3 div.sk-estimator.fitted:hover {\n",
              "  /* fitted */\n",
              "  background-color: var(--sklearn-color-fitted-level-2);\n",
              "}\n",
              "\n",
              "/* Specification for estimator info (e.g. \"i\" and \"?\") */\n",
              "\n",
              "/* Common style for \"i\" and \"?\" */\n",
              "\n",
              ".sk-estimator-doc-link,\n",
              "a:link.sk-estimator-doc-link,\n",
              "a:visited.sk-estimator-doc-link {\n",
              "  float: right;\n",
              "  font-size: smaller;\n",
              "  line-height: 1em;\n",
              "  font-family: monospace;\n",
              "  background-color: var(--sklearn-color-background);\n",
              "  border-radius: 1em;\n",
              "  height: 1em;\n",
              "  width: 1em;\n",
              "  text-decoration: none !important;\n",
              "  margin-left: 1ex;\n",
              "  /* unfitted */\n",
              "  border: var(--sklearn-color-unfitted-level-1) 1pt solid;\n",
              "  color: var(--sklearn-color-unfitted-level-1);\n",
              "}\n",
              "\n",
              ".sk-estimator-doc-link.fitted,\n",
              "a:link.sk-estimator-doc-link.fitted,\n",
              "a:visited.sk-estimator-doc-link.fitted {\n",
              "  /* fitted */\n",
              "  border: var(--sklearn-color-fitted-level-1) 1pt solid;\n",
              "  color: var(--sklearn-color-fitted-level-1);\n",
              "}\n",
              "\n",
              "/* On hover */\n",
              "div.sk-estimator:hover .sk-estimator-doc-link:hover,\n",
              ".sk-estimator-doc-link:hover,\n",
              "div.sk-label-container:hover .sk-estimator-doc-link:hover,\n",
              ".sk-estimator-doc-link:hover {\n",
              "  /* unfitted */\n",
              "  background-color: var(--sklearn-color-unfitted-level-3);\n",
              "  color: var(--sklearn-color-background);\n",
              "  text-decoration: none;\n",
              "}\n",
              "\n",
              "div.sk-estimator.fitted:hover .sk-estimator-doc-link.fitted:hover,\n",
              ".sk-estimator-doc-link.fitted:hover,\n",
              "div.sk-label-container:hover .sk-estimator-doc-link.fitted:hover,\n",
              ".sk-estimator-doc-link.fitted:hover {\n",
              "  /* fitted */\n",
              "  background-color: var(--sklearn-color-fitted-level-3);\n",
              "  color: var(--sklearn-color-background);\n",
              "  text-decoration: none;\n",
              "}\n",
              "\n",
              "/* Span, style for the box shown on hovering the info icon */\n",
              ".sk-estimator-doc-link span {\n",
              "  display: none;\n",
              "  z-index: 9999;\n",
              "  position: relative;\n",
              "  font-weight: normal;\n",
              "  right: .2ex;\n",
              "  padding: .5ex;\n",
              "  margin: .5ex;\n",
              "  width: min-content;\n",
              "  min-width: 20ex;\n",
              "  max-width: 50ex;\n",
              "  color: var(--sklearn-color-text);\n",
              "  box-shadow: 2pt 2pt 4pt #999;\n",
              "  /* unfitted */\n",
              "  background: var(--sklearn-color-unfitted-level-0);\n",
              "  border: .5pt solid var(--sklearn-color-unfitted-level-3);\n",
              "}\n",
              "\n",
              ".sk-estimator-doc-link.fitted span {\n",
              "  /* fitted */\n",
              "  background: var(--sklearn-color-fitted-level-0);\n",
              "  border: var(--sklearn-color-fitted-level-3);\n",
              "}\n",
              "\n",
              ".sk-estimator-doc-link:hover span {\n",
              "  display: block;\n",
              "}\n",
              "\n",
              "/* \"?\"-specific style due to the `<a>` HTML tag */\n",
              "\n",
              "#sk-container-id-3 a.estimator_doc_link {\n",
              "  float: right;\n",
              "  font-size: 1rem;\n",
              "  line-height: 1em;\n",
              "  font-family: monospace;\n",
              "  background-color: var(--sklearn-color-background);\n",
              "  border-radius: 1rem;\n",
              "  height: 1rem;\n",
              "  width: 1rem;\n",
              "  text-decoration: none;\n",
              "  /* unfitted */\n",
              "  color: var(--sklearn-color-unfitted-level-1);\n",
              "  border: var(--sklearn-color-unfitted-level-1) 1pt solid;\n",
              "}\n",
              "\n",
              "#sk-container-id-3 a.estimator_doc_link.fitted {\n",
              "  /* fitted */\n",
              "  border: var(--sklearn-color-fitted-level-1) 1pt solid;\n",
              "  color: var(--sklearn-color-fitted-level-1);\n",
              "}\n",
              "\n",
              "/* On hover */\n",
              "#sk-container-id-3 a.estimator_doc_link:hover {\n",
              "  /* unfitted */\n",
              "  background-color: var(--sklearn-color-unfitted-level-3);\n",
              "  color: var(--sklearn-color-background);\n",
              "  text-decoration: none;\n",
              "}\n",
              "\n",
              "#sk-container-id-3 a.estimator_doc_link.fitted:hover {\n",
              "  /* fitted */\n",
              "  background-color: var(--sklearn-color-fitted-level-3);\n",
              "}\n",
              "</style><div id=\"sk-container-id-3\" class=\"sk-top-container\"><div class=\"sk-text-repr-fallback\"><pre>RandomForestClassifier(random_state=42)</pre><b>In a Jupyter environment, please rerun this cell to show the HTML representation or trust the notebook. <br />On GitHub, the HTML representation is unable to render, please try loading this page with nbviewer.org.</b></div><div class=\"sk-container\" hidden><div class=\"sk-item\"><div class=\"sk-estimator fitted sk-toggleable\"><input class=\"sk-toggleable__control sk-hidden--visually\" id=\"sk-estimator-id-3\" type=\"checkbox\" checked><label for=\"sk-estimator-id-3\" class=\"sk-toggleable__label fitted sk-toggleable__label-arrow fitted\">&nbsp;&nbsp;RandomForestClassifier<a class=\"sk-estimator-doc-link fitted\" rel=\"noreferrer\" target=\"_blank\" href=\"https://scikit-learn.org/1.5/modules/generated/sklearn.ensemble.RandomForestClassifier.html\">?<span>Documentation for RandomForestClassifier</span></a><span class=\"sk-estimator-doc-link fitted\">i<span>Fitted</span></span></label><div class=\"sk-toggleable__content fitted\"><pre>RandomForestClassifier(random_state=42)</pre></div> </div></div></div></div>"
            ]
          },
          "metadata": {},
          "execution_count": 64
        }
      ]
    },
    {
      "cell_type": "code",
      "source": [
        "y_pred = model.predict(X_test)\n",
        "print(\"Classification Report:\\n\", classification_report(y_test, y_pred))\n",
        "print(\"Confusion Matrix:\\n\", confusion_matrix(y_test, y_pred))"
      ],
      "metadata": {
        "colab": {
          "base_uri": "https://localhost:8080/"
        },
        "id": "5XfXTukVVMIB",
        "outputId": "78e86db8-5bdb-4f67-d5dd-d9a4df6fd4c7"
      },
      "execution_count": 65,
      "outputs": [
        {
          "output_type": "stream",
          "name": "stdout",
          "text": [
            "Classification Report:\n",
            "               precision    recall  f1-score   support\n",
            "\n",
            "           0       1.00      1.00      1.00    309246\n",
            "           1       1.00      1.00      1.00     70452\n",
            "\n",
            "    accuracy                           1.00    379698\n",
            "   macro avg       1.00      1.00      1.00    379698\n",
            "weighted avg       1.00      1.00      1.00    379698\n",
            "\n",
            "Confusion Matrix:\n",
            " [[309246      0]\n",
            " [     0  70452]]\n"
          ]
        }
      ]
    },
    {
      "cell_type": "markdown",
      "source": [
        "Confusion Matrix"
      ],
      "metadata": {
        "id": "gqcSvr-Hd4wj"
      }
    },
    {
      "cell_type": "code",
      "source": [
        "sns.heatmap(confusion_matrix(y_test, y_pred), annot=True, fmt='d', cmap='Blues')\n",
        "plt.xlabel('Predicted')\n",
        "plt.ylabel('Actual')\n",
        "plt.title('Confusion Matrix')\n",
        "plt.show()"
      ],
      "metadata": {
        "colab": {
          "base_uri": "https://localhost:8080/",
          "height": 472
        },
        "id": "ivV-jRQ2VTH0",
        "outputId": "ebdd3010-ffc9-42b6-c914-abc000cf0fee"
      },
      "execution_count": 66,
      "outputs": [
        {
          "output_type": "display_data",
          "data": {
            "text/plain": [
              "<Figure size 640x480 with 2 Axes>"
            ],
            "image/png": "[encoded data removed]"
          },
          "metadata": {}
        }
      ]
    },
    {
      "cell_type": "code",
      "source": [
        "# Plot feature importance\n",
        "importances = model.feature_importances_\n",
        "plt.barh(features.columns, importances)\n",
        "plt.xlabel('Feature Importance')\n",
        "plt.ylabel('Feature')\n",
        "plt.title('Feature Importance for Seismic Event Classification')\n",
        "plt.show()"
      ],
      "metadata": {
        "colab": {
          "base_uri": "https://localhost:8080/",
          "height": 472
        },
        "id": "2HCw5aNvVVwG",
        "outputId": "8bec8631-17d1-490b-d4df-c7ccb2624369"
      },
      "execution_count": 67,
      "outputs": [
        {
          "output_type": "display_data",
          "data": {
            "text/plain": [
              "<Figure size 640x480 with 1 Axes>"
            ],
            "image/png": "[encoded data removed]"
          },
          "metadata": {}
        }
      ]
    },
    {
      "cell_type": "code",
      "source": [
        "joblib.dump(model, 'seismic_model.pkl')\n",
        "\n",
        "# from google.colab import files\n",
        "# files.download('seismic_model.pkl')\n"
      ],
      "metadata": {
        "colab": {
          "base_uri": "https://localhost:8080/"
        },
        "id": "Ed4PlMFvWi9l",
        "outputId": "38156cab-9155-4a5e-cd8c-d7f26a3dc11c"
      },
      "execution_count": 68,
      "outputs": [
        {
          "output_type": "execute_result",
          "data": {
            "text/plain": [
              "['seismic_model.pkl']"
            ]
          },
          "metadata": {},
          "execution_count": 68
        }
      ]
    },
    {
      "cell_type": "code",
      "source": [
        "test_data = pd.read_csv(\"new_test_data.csv\")\n",
        "print(test_data.head())"
      ],
      "metadata": {
        "colab": {
          "base_uri": "https://localhost:8080/"
        },
        "id": "ixQ8m3RmW6p9",
        "outputId": "9d7b43d4-0702-4020-98e4-4f9e6ad9a5cf"
      },
      "execution_count": 69,
      "outputs": [
        {
          "output_type": "stream",
          "name": "stdout",
          "text": [
            "   p_arrival_sample  s_arrival_sample  source_latitude  source_longitude  \\\n",
            "0              1000              2000            32.88           -117.10   \n",
            "1              2000              3000            33.01           -118.20   \n",
            "2                 0                 0            32.90           -117.50   \n",
            "3                 0                 0            32.85           -117.00   \n",
            "4              1200              2400            33.22           -118.55   \n",
            "\n",
            "   source_depth_km    trace_category  \n",
            "0             10.0  earthquake_local  \n",
            "1             20.0  earthquake_local  \n",
            "2              0.0             noise  \n",
            "3              0.0             noise  \n",
            "4             12.5  earthquake_local  \n"
          ]
        }
      ]
    },
    {
      "cell_type": "code",
      "source": [
        "test_features = test_data[['p_arrival_sample', 's_arrival_sample', 'source_latitude',\n",
        "                           'source_longitude', 'source_depth_km']]\n",
        "test_features = test_features.fillna(0)\n",
        "test_features_scaled = scaler.transform(test_features)\n"
      ],
      "metadata": {
        "id": "zl5nBbuhXAVx"
      },
      "execution_count": 70,
      "outputs": []
    },
    {
      "cell_type": "code",
      "source": [
        "model = joblib.load('seismic_model.pkl')"
      ],
      "metadata": {
        "id": "spz-XNe0XDUx"
      },
      "execution_count": 71,
      "outputs": []
    },
    {
      "cell_type": "code",
      "source": [
        "predictions = model.predict(test_features_scaled)\n",
        "print(predictions)"
      ],
      "metadata": {
        "colab": {
          "base_uri": "https://localhost:8080/"
        },
        "id": "eRitOvxCXGtE",
        "outputId": "53a5e58e-c7ef-4c5a-f055-457c14d87076"
      },
      "execution_count": 72,
      "outputs": [
        {
          "output_type": "stream",
          "name": "stdout",
          "text": [
            "[0 0 1 1 0 0 1 1 0 0]\n"
          ]
        }
      ]
    },
    {
      "cell_type": "code",
      "source": [
        "class_names = label_encoder.inverse_transform(predictions)\n",
        "print(class_names)"
      ],
      "metadata": {
        "colab": {
          "base_uri": "https://localhost:8080/"
        },
        "id": "v7TWR6mbXI5e",
        "outputId": "ad03dfca-c8cf-4017-ea57-e93ed86c9505"
      },
      "execution_count": 73,
      "outputs": [
        {
          "output_type": "stream",
          "name": "stdout",
          "text": [
            "['earthquake_local' 'earthquake_local' 'noise' 'noise' 'earthquake_local'\n",
            " 'earthquake_local' 'noise' 'noise' 'earthquake_local' 'earthquake_local']\n"
          ]
        }
      ]
    },
    {
      "cell_type": "code",
      "source": [
        "test_data['predicted_trace_category'] = class_names\n",
        "print(test_data[['predicted_trace_category']].head())"
      ],
      "metadata": {
        "colab": {
          "base_uri": "https://localhost:8080/"
        },
        "id": "HrLOVREgXQ7N",
        "outputId": "f9ad68da-e735-4ec0-ec1e-0bec171a21fb"
      },
      "execution_count": 74,
      "outputs": [
        {
          "output_type": "stream",
          "name": "stdout",
          "text": [
            "  predicted_trace_category\n",
            "0         earthquake_local\n",
            "1         earthquake_local\n",
            "2                    noise\n",
            "3                    noise\n",
            "4         earthquake_local\n"
          ]
        }
      ]
    },
    {
      "cell_type": "code",
      "source": [
        "decoded_predictions = label_encoder.inverse_transform(predictions)\n",
        "\n",
        "true_labels = test_data['trace_category']\n",
        "\n",
        "conf_matrix = confusion_matrix(true_labels, decoded_predictions)\n",
        "class_labels = label_encoder.classes_\n",
        "\n",
        "plt.figure(figsize=(8, 6))\n",
        "sns.heatmap(conf_matrix, annot=True, fmt='d', cmap='Blues', xticklabels=class_labels, yticklabels=class_labels)\n",
        "plt.xlabel(\"Predicted Labels\")\n",
        "plt.ylabel(\"True Labels\")\n",
        "plt.title(\"Confusion Matrix\")\n",
        "plt.show()\n",
        "\n",
        "report = classification_report(true_labels, decoded_predictions, target_names=class_labels)\n",
        "print(\"Classification Report:\\n\", report)\n"
      ],
      "metadata": {
        "colab": {
          "base_uri": "https://localhost:8080/",
          "height": 738
        },
        "id": "pF2vQpuxXUgB",
        "outputId": "b9712711-a44c-40d7-bd92-188d199e4093"
      },
      "execution_count": 75,
      "outputs": [
        {
          "output_type": "display_data",
          "data": {
            "text/plain": [
              "<Figure size 800x600 with 2 Axes>"
            ],
            "image/png": "[encoded data removed]"
          },
          "metadata": {}
        },
        {
          "output_type": "stream",
          "name": "stdout",
          "text": [
            "Classification Report:\n",
            "                   precision    recall  f1-score   support\n",
            "\n",
            "earthquake_local       1.00      1.00      1.00         6\n",
            "           noise       1.00      1.00      1.00         4\n",
            "\n",
            "        accuracy                           1.00        10\n",
            "       macro avg       1.00      1.00      1.00        10\n",
            "    weighted avg       1.00      1.00      1.00        10\n",
            "\n"
          ]
        }
      ]
    },
    {
      "cell_type": "code",
      "source": [],
      "metadata": {
        "id": "91zG7sJuZ7x9"
      },
      "execution_count": null,
      "outputs": []
    }
  ]
}